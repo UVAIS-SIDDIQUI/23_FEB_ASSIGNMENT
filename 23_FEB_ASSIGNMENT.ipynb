{
 "cells": [
  {
   "cell_type": "code",
   "execution_count": 1,
   "id": "0faec61a-101c-40bd-80a5-d5c4bdcc25be",
   "metadata": {},
   "outputs": [],
   "source": [
    "# Q1. Create a Pandas Series that contains the following data: 4, 8, 15, 16, 23, and 42. Then, print the series."
   ]
  },
  {
   "cell_type": "code",
   "execution_count": 2,
   "id": "1af9e74d-4288-4a64-a011-e2f2418c531f",
   "metadata": {},
   "outputs": [],
   "source": [
    "import pandas as pd"
   ]
  },
  {
   "cell_type": "code",
   "execution_count": 5,
   "id": "c517d2a0-4c4f-46f2-8703-9cdb7615d51d",
   "metadata": {},
   "outputs": [
    {
     "data": {
      "text/plain": [
       "0     4\n",
       "1     8\n",
       "2    15\n",
       "3    16\n",
       "4    23\n",
       "5    42\n",
       "dtype: int64"
      ]
     },
     "execution_count": 5,
     "metadata": {},
     "output_type": "execute_result"
    }
   ],
   "source": [
    "vr1=pd.Series([4,8,15,16,23,42])\n",
    "vr1"
   ]
  },
  {
   "cell_type": "code",
   "execution_count": 6,
   "id": "1c414a5b-37d8-4390-a4da-9a080fca1ffe",
   "metadata": {},
   "outputs": [
    {
     "data": {
      "text/plain": [
       "pandas.core.series.Series"
      ]
     },
     "execution_count": 6,
     "metadata": {},
     "output_type": "execute_result"
    }
   ],
   "source": [
    "type(vr1)"
   ]
  },
  {
   "cell_type": "code",
   "execution_count": 7,
   "id": "589e3580-fd29-4548-a8e7-71c39e75125f",
   "metadata": {},
   "outputs": [],
   "source": [
    "# Q2. Create a variable of list type containing 10 elements in it, and apply pandas.Series function on the\n",
    "#      variable print it."
   ]
  },
  {
   "cell_type": "code",
   "execution_count": 8,
   "id": "13c71245-405a-4a3f-b897-322316e8f645",
   "metadata": {},
   "outputs": [],
   "source": [
    "vr2=[1,2,3,4,5,6,7,8,9,10]"
   ]
  },
  {
   "cell_type": "code",
   "execution_count": 9,
   "id": "3bc501c4-c477-46a0-b3bb-b6e16b559725",
   "metadata": {},
   "outputs": [
    {
     "data": {
      "text/plain": [
       "0     1\n",
       "1     2\n",
       "2     3\n",
       "3     4\n",
       "4     5\n",
       "5     6\n",
       "6     7\n",
       "7     8\n",
       "8     9\n",
       "9    10\n",
       "dtype: int64"
      ]
     },
     "execution_count": 9,
     "metadata": {},
     "output_type": "execute_result"
    }
   ],
   "source": [
    "pd.Series(vr2)"
   ]
  },
  {
   "cell_type": "code",
   "execution_count": 10,
   "id": "634d58d8-9d55-4b73-b357-190f92193d78",
   "metadata": {},
   "outputs": [],
   "source": [
    "# Q3. Create a Pandas DataFrame that contains the following data:"
   ]
  },
  {
   "cell_type": "code",
   "execution_count": 17,
   "id": "4199634c-b3cd-48b3-8788-b264fdb3a229",
   "metadata": {},
   "outputs": [],
   "source": [
    "x={'Name':['Alice','Bob','Claire'],'Age':[25,30,27],'Gender':['Female','Male','Female']}"
   ]
  },
  {
   "cell_type": "code",
   "execution_count": 18,
   "id": "1f86521e-a1b3-4548-b537-48fb07ba8d1b",
   "metadata": {},
   "outputs": [
    {
     "data": {
      "text/html": [
       "<div>\n",
       "<style scoped>\n",
       "    .dataframe tbody tr th:only-of-type {\n",
       "        vertical-align: middle;\n",
       "    }\n",
       "\n",
       "    .dataframe tbody tr th {\n",
       "        vertical-align: top;\n",
       "    }\n",
       "\n",
       "    .dataframe thead th {\n",
       "        text-align: right;\n",
       "    }\n",
       "</style>\n",
       "<table border=\"1\" class=\"dataframe\">\n",
       "  <thead>\n",
       "    <tr style=\"text-align: right;\">\n",
       "      <th></th>\n",
       "      <th>Name</th>\n",
       "      <th>Age</th>\n",
       "      <th>Gender</th>\n",
       "    </tr>\n",
       "  </thead>\n",
       "  <tbody>\n",
       "    <tr>\n",
       "      <th>0</th>\n",
       "      <td>Alice</td>\n",
       "      <td>25</td>\n",
       "      <td>Female</td>\n",
       "    </tr>\n",
       "    <tr>\n",
       "      <th>1</th>\n",
       "      <td>Bob</td>\n",
       "      <td>30</td>\n",
       "      <td>Male</td>\n",
       "    </tr>\n",
       "    <tr>\n",
       "      <th>2</th>\n",
       "      <td>Claire</td>\n",
       "      <td>27</td>\n",
       "      <td>Female</td>\n",
       "    </tr>\n",
       "  </tbody>\n",
       "</table>\n",
       "</div>"
      ],
      "text/plain": [
       "     Name  Age  Gender\n",
       "0   Alice   25  Female\n",
       "1     Bob   30    Male\n",
       "2  Claire   27  Female"
      ]
     },
     "execution_count": 18,
     "metadata": {},
     "output_type": "execute_result"
    }
   ],
   "source": [
    "pd.DataFrame(x)"
   ]
  },
  {
   "cell_type": "code",
   "execution_count": 13,
   "id": "e3c35b43-72b7-470e-9d06-797cb0fa0911",
   "metadata": {},
   "outputs": [],
   "source": [
    "# Q4. What is ‘DataFrame’ in pandas and how is it different from pandas.series? Explain with an example."
   ]
  },
  {
   "cell_type": "markdown",
   "id": "a9af0185-06f0-4b1b-89ff-1b45b1b5ab71",
   "metadata": {},
   "source": [
    "ANS=\n",
    "--->In pandas, a DataFrame is a two-dimensional, tabular data structure that is commonly used for data manipulation and analysis. It can be thought of as a spreadsheet or a SQL table, where data is organized into rows and columns. Each column in a DataFrame can hold different data types, and you can perform various operations on the data, such as filtering, grouping, and aggregation.\n",
    "\n",
    "\n",
    "-->On the other hand, a pandas.Series is a one-dimensional labeled array that is capable of holding data of any type. It is similar to a column in a DataFrame but lacks the two-dimensional structure. A Series is essentially a single column of data with an associated label (the index), and you can think of it as a specialized dictionary or an array.\n",
    "\n",
    "\n",
    "\n",
    "EX: SERIES , DATAFRAME."
   ]
  },
  {
   "cell_type": "code",
   "execution_count": 21,
   "id": "7431f1d0-dce5-4e50-8941-4bcc42c73bb0",
   "metadata": {},
   "outputs": [
    {
     "data": {
      "text/html": [
       "<div>\n",
       "<style scoped>\n",
       "    .dataframe tbody tr th:only-of-type {\n",
       "        vertical-align: middle;\n",
       "    }\n",
       "\n",
       "    .dataframe tbody tr th {\n",
       "        vertical-align: top;\n",
       "    }\n",
       "\n",
       "    .dataframe thead th {\n",
       "        text-align: right;\n",
       "    }\n",
       "</style>\n",
       "<table border=\"1\" class=\"dataframe\">\n",
       "  <thead>\n",
       "    <tr style=\"text-align: right;\">\n",
       "      <th></th>\n",
       "      <th>Name</th>\n",
       "      <th>Age</th>\n",
       "      <th>City</th>\n",
       "    </tr>\n",
       "  </thead>\n",
       "  <tbody>\n",
       "    <tr>\n",
       "      <th>0</th>\n",
       "      <td>Alice</td>\n",
       "      <td>25</td>\n",
       "      <td>New York</td>\n",
       "    </tr>\n",
       "    <tr>\n",
       "      <th>1</th>\n",
       "      <td>Bob</td>\n",
       "      <td>30</td>\n",
       "      <td>San Francisco</td>\n",
       "    </tr>\n",
       "    <tr>\n",
       "      <th>2</th>\n",
       "      <td>Charlie</td>\n",
       "      <td>35</td>\n",
       "      <td>Los Angeles</td>\n",
       "    </tr>\n",
       "  </tbody>\n",
       "</table>\n",
       "</div>"
      ],
      "text/plain": [
       "      Name  Age           City\n",
       "0    Alice   25       New York\n",
       "1      Bob   30  San Francisco\n",
       "2  Charlie   35    Los Angeles"
      ]
     },
     "execution_count": 21,
     "metadata": {},
     "output_type": "execute_result"
    }
   ],
   "source": [
    "data = {'Name': ['Alice', 'Bob', 'Charlie'],\n",
    "        'Age': [25, 30, 35],\n",
    "        'City': ['New York', 'San Francisco', 'Los Angeles']}\n",
    "pd.DataFrame(data)"
   ]
  },
  {
   "cell_type": "code",
   "execution_count": 23,
   "id": "761b70f0-ba24-4748-ac82-37bcf7216a43",
   "metadata": {},
   "outputs": [
    {
     "data": {
      "text/plain": [
       "0    25\n",
       "1    30\n",
       "2    35\n",
       "Name: Age, dtype: int64"
      ]
     },
     "execution_count": 23,
     "metadata": {},
     "output_type": "execute_result"
    }
   ],
   "source": [
    "pd.Series([25, 30, 35], name='Age')"
   ]
  },
  {
   "cell_type": "code",
   "execution_count": 24,
   "id": "0a3baa83-3cc9-44ea-9f96-92ab08420fe3",
   "metadata": {},
   "outputs": [],
   "source": [
    "# Q5. What are some common functions you can use to manipulate data in a Pandas DataFrame? Can\n",
    "#     you give an example of when you might use one of these functions?"
   ]
  },
  {
   "cell_type": "markdown",
   "id": "2ee8df0e-fca5-40ac-ba1f-4cadbe5d9480",
   "metadata": {},
   "source": [
    "ANS = Pandas provides a wide range of functions and methods to manipulate data in a DataFrame. \n",
    "\n",
    "Here are some common functions you can use:\n",
    "\n",
    "1 .Selection and Filtering:\n",
    "\n",
    "loc[] and iloc[]:\n",
    "\n",
    "Used for selecting rows and columns by label or integer location.\n",
    "query(): Allows you to filter rows using SQL-like syntax.\n",
    "\n",
    "EX: \n",
    "\n",
    "\n",
    "filtered_df = df[df['Age'] > 30]\n",
    "\n",
    "2.Sorting:\n",
    "\n",
    "sort_values(): Sorts the DataFrame by one or more columns.\n",
    "\n",
    "EX: \n",
    "\n",
    "sorted_df = df.sort_values(by='Age')\n",
    "\n",
    "\n",
    "3.Aggregation:\n",
    "\n",
    "groupby(): Groups data based on one or more columns, allowing for aggregation operations like sum, mean, count, et\n",
    "\n",
    "EX: \n",
    "\n",
    "\n",
    "avg_age_by_city = df.groupby('City')['Age'].mean()\n",
    "\n",
    "\n",
    "4.Data Transformation:\n",
    "\n",
    "apply(): Applies a function to each element, row, or column.\n",
    "map(): Applies a mapping or dictionary to a Series.\n",
    "\n",
    "EX: \n",
    "\n",
    "def double_age(age):\n",
    "    return age * 2\n",
    "\n",
    "df['Double_Age'] = df['Age'].apply(double_age)\n"
   ]
  },
  {
   "cell_type": "code",
   "execution_count": 26,
   "id": "d6b6978a-1d3c-4df9-bf37-8ec3852470bd",
   "metadata": {},
   "outputs": [],
   "source": [
    "# Q6. Which of the following is mutable in nature Series, DataFrame, Panel?"
   ]
  },
  {
   "cell_type": "markdown",
   "id": "d99b7968-4e2a-4700-b6b3-d24cbd36efd2",
   "metadata": {},
   "source": [
    "ANS = In Pandas, both Series and DataFrame are mutable in nature, while Panel is not.\n",
    "\n",
    "Here's a breakdown of their mutability:\n",
    "\n",
    "Series: \n",
    "\n",
    "A pandas.Series is mutable, which means you can modify its elements, change the index labels, or even add new elements to it after it has been created. You can update values in a Series using indexing or other methods like .loc[] and .iloc[].\n",
    "\n",
    "Example of modifying a Series:"
   ]
  },
  {
   "cell_type": "code",
   "execution_count": 28,
   "id": "d1e939bd-fd09-4f89-b31f-d28f5e5201ae",
   "metadata": {},
   "outputs": [
    {
     "data": {
      "text/plain": [
       "0     1\n",
       "1     2\n",
       "2    99\n",
       "3     4\n",
       "4     5\n",
       "dtype: int64"
      ]
     },
     "execution_count": 28,
     "metadata": {},
     "output_type": "execute_result"
    }
   ],
   "source": [
    "s = pd.Series([1, 2, 3, 4])\n",
    "s[2] = 99  \n",
    "s[4] = 5\n",
    "s"
   ]
  },
  {
   "cell_type": "markdown",
   "id": "34b65209-b9fe-4525-bd60-d46a051139bb",
   "metadata": {},
   "source": [
    "DataFrame: \n",
    "\n",
    "A pandas.DataFrame is also mutable. You can modify the data within the DataFrame, add or remove columns, change column names, and perform various other operations to update its content.\n",
    "\n",
    "\n",
    "Example of modifying a DataFrame:\n",
    "\n"
   ]
  },
  {
   "cell_type": "code",
   "execution_count": 31,
   "id": "9d5739b9-8383-408f-bd4d-522e143e041f",
   "metadata": {},
   "outputs": [
    {
     "data": {
      "text/html": [
       "<div>\n",
       "<style scoped>\n",
       "    .dataframe tbody tr th:only-of-type {\n",
       "        vertical-align: middle;\n",
       "    }\n",
       "\n",
       "    .dataframe tbody tr th {\n",
       "        vertical-align: top;\n",
       "    }\n",
       "\n",
       "    .dataframe thead th {\n",
       "        text-align: right;\n",
       "    }\n",
       "</style>\n",
       "<table border=\"1\" class=\"dataframe\">\n",
       "  <thead>\n",
       "    <tr style=\"text-align: right;\">\n",
       "      <th></th>\n",
       "      <th>A</th>\n",
       "      <th>B</th>\n",
       "      <th>C</th>\n",
       "    </tr>\n",
       "  </thead>\n",
       "  <tbody>\n",
       "    <tr>\n",
       "      <th>0</th>\n",
       "      <td>7</td>\n",
       "      <td>4</td>\n",
       "      <td>10</td>\n",
       "    </tr>\n",
       "    <tr>\n",
       "      <th>1</th>\n",
       "      <td>8</td>\n",
       "      <td>5</td>\n",
       "      <td>11</td>\n",
       "    </tr>\n",
       "    <tr>\n",
       "      <th>2</th>\n",
       "      <td>9</td>\n",
       "      <td>6</td>\n",
       "      <td>12</td>\n",
       "    </tr>\n",
       "  </tbody>\n",
       "</table>\n",
       "</div>"
      ],
      "text/plain": [
       "   A  B   C\n",
       "0  7  4  10\n",
       "1  8  5  11\n",
       "2  9  6  12"
      ]
     },
     "execution_count": 31,
     "metadata": {},
     "output_type": "execute_result"
    }
   ],
   "source": [
    "data = {'A': [1, 2, 3], 'B': [4, 5, 6]}\n",
    "df = pd.DataFrame(data)\n",
    "\n",
    "df['A'] = [7, 8, 9]\n",
    "\n",
    "\n",
    "df['C'] = [10, 11, 12]\n",
    "df"
   ]
  },
  {
   "cell_type": "markdown",
   "id": "a4e621ac-7a58-4e75-8449-0da0325e2a26",
   "metadata": {},
   "source": [
    "Panel:\n",
    "\n",
    "pandas.Panel used to be a data structure in older versions of Pandas for handling three-dimensional data. However, it has been deprecated since Pandas version 0.25.0, and it is no longer part of the official Pandas library as of my last knowledge update in September 2021. If you are working with three-dimensional data, you should consider using other data structures like multi-index DataFrames."
   ]
  },
  {
   "cell_type": "code",
   "execution_count": 32,
   "id": "82d59838-31fc-4353-a38b-6bbb9b934273",
   "metadata": {},
   "outputs": [],
   "source": [
    "# Q7. Create a DataFrame using multiple Series. Explain with an example."
   ]
  },
  {
   "cell_type": "code",
   "execution_count": 5,
   "id": "e16d9a4c-ebcc-42db-9c3c-06f281dafb3e",
   "metadata": {},
   "outputs": [],
   "source": [
    "sr={\"s\":pd.Series([1,2,3,4]),\"r\":pd.Series([5,6,8,9]),\"e\":pd.Series([10,11,12,13])}"
   ]
  },
  {
   "cell_type": "code",
   "execution_count": 6,
   "id": "371c11f8-5b2a-475b-afd0-04ec1d3c7262",
   "metadata": {},
   "outputs": [
    {
     "data": {
      "text/html": [
       "<div>\n",
       "<style scoped>\n",
       "    .dataframe tbody tr th:only-of-type {\n",
       "        vertical-align: middle;\n",
       "    }\n",
       "\n",
       "    .dataframe tbody tr th {\n",
       "        vertical-align: top;\n",
       "    }\n",
       "\n",
       "    .dataframe thead th {\n",
       "        text-align: right;\n",
       "    }\n",
       "</style>\n",
       "<table border=\"1\" class=\"dataframe\">\n",
       "  <thead>\n",
       "    <tr style=\"text-align: right;\">\n",
       "      <th></th>\n",
       "      <th>s</th>\n",
       "      <th>r</th>\n",
       "      <th>e</th>\n",
       "    </tr>\n",
       "  </thead>\n",
       "  <tbody>\n",
       "    <tr>\n",
       "      <th>0</th>\n",
       "      <td>1</td>\n",
       "      <td>5</td>\n",
       "      <td>10</td>\n",
       "    </tr>\n",
       "    <tr>\n",
       "      <th>1</th>\n",
       "      <td>2</td>\n",
       "      <td>6</td>\n",
       "      <td>11</td>\n",
       "    </tr>\n",
       "    <tr>\n",
       "      <th>2</th>\n",
       "      <td>3</td>\n",
       "      <td>8</td>\n",
       "      <td>12</td>\n",
       "    </tr>\n",
       "    <tr>\n",
       "      <th>3</th>\n",
       "      <td>4</td>\n",
       "      <td>9</td>\n",
       "      <td>13</td>\n",
       "    </tr>\n",
       "  </tbody>\n",
       "</table>\n",
       "</div>"
      ],
      "text/plain": [
       "   s  r   e\n",
       "0  1  5  10\n",
       "1  2  6  11\n",
       "2  3  8  12\n",
       "3  4  9  13"
      ]
     },
     "execution_count": 6,
     "metadata": {},
     "output_type": "execute_result"
    }
   ],
   "source": [
    "pd.DataFrame(sr)"
   ]
  },
  {
   "cell_type": "code",
   "execution_count": null,
   "id": "30e1fd90-a80c-401c-91e2-95ff970ee139",
   "metadata": {},
   "outputs": [],
   "source": []
  }
 ],
 "metadata": {
  "kernelspec": {
   "display_name": "Python 3 (ipykernel)",
   "language": "python",
   "name": "python3"
  },
  "language_info": {
   "codemirror_mode": {
    "name": "ipython",
    "version": 3
   },
   "file_extension": ".py",
   "mimetype": "text/x-python",
   "name": "python",
   "nbconvert_exporter": "python",
   "pygments_lexer": "ipython3",
   "version": "3.10.8"
  }
 },
 "nbformat": 4,
 "nbformat_minor": 5
}
